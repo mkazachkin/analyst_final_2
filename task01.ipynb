{
 "cells": [
  {
   "attachments": {},
   "cell_type": "markdown",
   "metadata": {},
   "source": [
    "# Задание 1\n",
    "Ваш продукт — это щкола английского языка [Лендинг для языковой школы](http://english22.tilda.ws/). Проанализиируйте конкурентов на рынке (SkyEng, Lingvoleo и прочие) и сформулируйте гипотезу по улучшению первого экрана лендинга."
   ]
  },
  {
   "attachments": {},
   "cell_type": "markdown",
   "metadata": {},
   "source": [
    "## Решение\n",
    "Для решения этой задачи были проанализированы как сайты конкурентов, так и указанный сайт языковой школы. Результаты анализа и рекомендации приведены в презентации, слайды которой приведены ниже. Презентация в формате Microsoft Powerpoint доступна по [ссылке](./documents/task01.pptx), в формате Adobe PDF по [ссылке](./documents/task01.pdf)"
   ]
  },
  {
   "attachments": {},
   "cell_type": "markdown",
   "metadata": {},
   "source": [
    "## Слайды презентации\n",
    "![Слайд 1](./images/pic_01_01.jpg)\n",
    "\n",
    "![Слайд 2](./images/pic_01_02.jpg)\n",
    "\n",
    "![Слайд 3](./images/pic_01_03.jpg)\n",
    "\n",
    "![Слайд 4](./images/pic_01_04.jpg)\n",
    "\n",
    "![Слайд 5](./images/pic_01_05.jpg)\n",
    "\n",
    "![Слайд 6](./images/pic_01_06.jpg)\n",
    "\n",
    "![Слайд 7](./images/pic_01_07.jpg)\n",
    "\n",
    "![Слайд 8](./images/pic_01_08.jpg)\n",
    "\n",
    "![Слайд 9](./images/pic_01_09.jpg)\n",
    "\n",
    "![Слайд 10](./images/pic_01_10.jpg)\n",
    "\n",
    "![Слайд 11](./images/pic_01_11.jpg)\n",
    "\n",
    "![Слайд 12](./images/pic_01_12.jpg)\n"
   ]
  }
 ],
 "metadata": {
  "kernelspec": {
   "display_name": "Python 3",
   "language": "python",
   "name": "python3"
  },
  "language_info": {
   "name": "python",
   "version": "3.7.9 (tags/v3.7.9:13c94747c7, Aug 17 2020, 18:58:18) [MSC v.1900 64 bit (AMD64)]"
  },
  "orig_nbformat": 4,
  "vscode": {
   "interpreter": {
    "hash": "f004ea0793d26f4aefceb0e4083ea02bab8df70132e8ab52f3fce2a27fba3f53"
   }
  }
 },
 "nbformat": 4,
 "nbformat_minor": 2
}
