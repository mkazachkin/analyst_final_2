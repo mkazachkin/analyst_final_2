{
 "cells": [
  {
   "cell_type": "code",
   "execution_count": 217,
   "metadata": {},
   "outputs": [],
   "source": [
    "import pandas as pd\n",
    "import matplotlib.pyplot as plt\n",
    "import scipy.stats as stats\n"
   ]
  },
  {
   "attachments": {},
   "cell_type": "markdown",
   "metadata": {},
   "source": [
    "# Задача 2\n",
    "Подведите результаты эксперимента в экселе по следующим данным: [ab_stats.csv]() Стат значимо ли отличается ARPPU в двух группах ? Какие рекомендации дадите менеджеру?\n",
    "\n",
    "## Решение\n",
    "Итоговый файл в форматах [ODS](./documents/ab_stats_ready.ods) и [XLSX](./documents/ab_stats_ready.xlsx) доступны по ссылкам. В сводной таблице были рассчитаны среднее значение по выборкам, количество визитов на сайт, стандартное отклонение, а также минимум и максимум в выборках.\n",
    "\n",
    "По выборке A:\n",
    "\n",
    "1. Среднее значение 6.97\n",
    "2. Минимум -12.07\n",
    "3. Максимум 17.73\n",
    "4. Стандартное отклонение 2.02\n",
    "5. Размер выборки 11835\n",
    "\n",
    "По выборке B:\n",
    "\n",
    "1. Среднее значение 7.05\n",
    "2. Минимум -8.29\n",
    "3. Максимум 22.45\n",
    "4. Стандартное отклонение 3.98\n",
    "5. Размер выборки 11817\n",
    "\n",
    "Для проверки нормальности были построены частотные графики распределения:\n",
    "\n",
    "![Частотный график выборки A](./images/pic_02_01.jpg)\n",
    "\n",
    "Рис. 1. Частотный график выборки A\n",
    "\n",
    "![Частотный график выборки B](./images/pic_02_02.jpg)\n",
    "\n",
    "Рис. 2. Частотный график выборки B\n"
   ]
  },
  {
   "attachments": {},
   "cell_type": "markdown",
   "metadata": {},
   "source": [
    "Наложим гистограммы распределения."
   ]
  },
  {
   "cell_type": "code",
   "execution_count": 218,
   "metadata": {},
   "outputs": [
    {
     "data": {
      "image/png": "[encoded data removed]",
      "text/plain": [
       "<Figure size 640x480 with 1 Axes>"
      ]
     },
     "metadata": {},
     "output_type": "display_data"
    }
   ],
   "source": [
    "file_name = './documents/ab_stats.xlsx'\n",
    "xl_data = pd.ExcelFile(file_name)\n",
    "df = xl_data.parse('ab_stats')\n",
    "df['ab_group'] = df['ab_group'].astype(str)\n",
    "df['av_site visit'] = df['av_site_visit'].astype(float)\n",
    "data_a = df[(df.ab_group == 'A')]['av_site_visit']\n",
    "data_b = df[(df.ab_group == 'B')]['av_site_visit']\n",
    "plt.hist(data_a, color='red', bins=50)\n",
    "plt.hist(data_b, color='blue', bins=50, alpha=0.5)\n",
    "plt.show()\n"
   ]
  },
  {
   "attachments": {},
   "cell_type": "markdown",
   "metadata": {},
   "source": [
    "Визуально выборки подчинаются нормальному закону распределения. Но выборка A имеет аномальные значения в левой части графика, и частотные графики двух выборок различаются. Проверим нормальность распределения с помощью теста Шапиро-Уилка."
   ]
  },
  {
   "cell_type": "code",
   "execution_count": 219,
   "metadata": {},
   "outputs": [
    {
     "name": "stdout",
     "output_type": "stream",
     "text": [
      "p-value A = 0.0\n",
      "p-value B = 0.36\n"
     ]
    }
   ],
   "source": [
    "print(f'p-value A = {round(stats.shapiro(data_a)[1], 2)}')\n",
    "print(f'p-value B = {round(stats.shapiro(data_b)[1], 2)}')\n"
   ]
  },
  {
   "attachments": {},
   "cell_type": "markdown",
   "metadata": {},
   "source": [
    "По результатам теста p-value выборки B в тесте Шапиро-Уилка составляет 0.355, т. е. больше 0.05. Выборка B с вероятностью 0.95 подчиняется нормальному закону распределения. Значение p-value выборки A составляет 0.00, то есть, выборка не подчиняется нормальному распределению. Вероятно, данные по средней выручке на одного платящего пользователя для групп A и B собирались различными методами, Причем оба метода дают некорректные данные: имеются отрицательные значения, что особенно характерно для группы B.\n",
    "\n",
    "Учитывая этот факт, определять статистическую значимость различий ARPPU не представляется возможным. Использование критерия Манна-Уитни для сравнения двух независимых групп неподчиняющихся закону нормального распределения покажет, что группы имеют статистически значиные различия (p-value = 0.02)."
   ]
  },
  {
   "cell_type": "code",
   "execution_count": 220,
   "metadata": {},
   "outputs": [
    {
     "name": "stdout",
     "output_type": "stream",
     "text": [
      "p-value = 0.015552525404162418\n"
     ]
    }
   ],
   "source": [
    "print(f'p-value = {stats.mannwhitneyu(data_a, data_b)[1]}')\n"
   ]
  },
  {
   "attachments": {},
   "cell_type": "markdown",
   "metadata": {},
   "source": [
    "Использование же критерия Стьюдента (T-тест для двух независимых выборок с нормальным распределение) покажет, что статистическая значимые различия между группами отсутствует (p-value = 0.06 > 0.05, $ \\alpha $ = 0.95)."
   ]
  },
  {
   "cell_type": "code",
   "execution_count": 221,
   "metadata": {},
   "outputs": [
    {
     "name": "stdout",
     "output_type": "stream",
     "text": [
      "p-value = 0.06107754367847282\n"
     ]
    }
   ],
   "source": [
    "print(f'p-value = {stats.ttest_ind(data_a, data_b)[1]}')\n"
   ]
  },
  {
   "attachments": {},
   "cell_type": "markdown",
   "metadata": {},
   "source": [
    "Судя по графику частотного распределения, часть выборки группы A подчиняется закону нормального распределения. Если отбросить \"аномальные\" значения, например, все значения менее 0 и все значения более 15, то в этом случае, p-value теста Шапиро будет равна 0.21, т. е. выборка будет нормальной. Размер выборки составит 11825 значений, т. е. отброшено всего 10 измерений (менее 0.1%), это значительно меньше допустимого порога в 5%, которые могли бы повлиять на результаты тестирования."
   ]
  },
  {
   "cell_type": "code",
   "execution_count": 222,
   "metadata": {},
   "outputs": [
    {
     "name": "stdout",
     "output_type": "stream",
     "text": [
      "p-value A = 0.21, n = 11825\n"
     ]
    }
   ],
   "source": [
    "data_a = df[(df.ab_group == 'A') & (df.av_site_visit > 0)\n",
    "            & (df.av_site_visit < 15)]['av_site_visit']\n",
    "print(\n",
    "    f'p-value A = {round(stats.shapiro(data_a)[1], 2)}, n = {data_a.count()}')\n"
   ]
  },
  {
   "attachments": {},
   "cell_type": "markdown",
   "metadata": {},
   "source": [
    "Построим гистрограмму частотного распределения с учетом исправленной выборки A:"
   ]
  },
  {
   "cell_type": "code",
   "execution_count": 223,
   "metadata": {},
   "outputs": [
    {
     "data": {
      "image/png": "[encoded data removed]",
      "text/plain": [
       "<Figure size 640x480 with 1 Axes>"
      ]
     },
     "metadata": {},
     "output_type": "display_data"
    }
   ],
   "source": [
    "plt.hist(data_a, color='red', bins=50)\n",
    "plt.hist(data_b, color='blue', bins=50, alpha=0.5)\n",
    "plt.show()\n"
   ]
  },
  {
   "attachments": {},
   "cell_type": "markdown",
   "metadata": {},
   "source": [
    "Для двух выборок, подчиняющихся закону нормального распределения для оценки статистически значимой разницы можно применить критерий Стьюдента (T-тест)."
   ]
  },
  {
   "cell_type": "code",
   "execution_count": 224,
   "metadata": {},
   "outputs": [
    {
     "name": "stdout",
     "output_type": "stream",
     "text": [
      "p-value = 0.07014433122959791\n"
     ]
    }
   ],
   "source": [
    "print(f'p-value = {stats.ttest_ind(data_a, data_b)[1]}')\n"
   ]
  },
  {
   "attachments": {},
   "cell_type": "markdown",
   "metadata": {},
   "source": [
    "T-тест продемонстрировал отсутствие статистически значимой разницы между группами A и B (p-value = 0.07 > 0.05, $ \\alpha $ = 0.95)."
   ]
  },
  {
   "attachments": {},
   "cell_type": "markdown",
   "metadata": {},
   "source": [
    "## Выводы и рекомендации\n",
    "\n",
    "1. Между выборками A и B не обнаружены статистически значимые различия (p-value очищенных групп равно 0.07).\n",
    "2. Частотный график демонстрирует разный характер распределения в группах A и B. Кроме того, в группе B фиксируется большое количество отрицательных значений метрики ARPPU, что не характерно для группы A. Если данные верны, то это может свидетельствовать об ошибках дизайна A/B-тестирования.\n",
    "3. Учитывая полученные результаты, рекомендовать к использованию вариант A или B не представляется возможным."
   ]
  }
 ],
 "metadata": {
  "kernelspec": {
   "display_name": "Python 3",
   "language": "python",
   "name": "python3"
  },
  "language_info": {
   "codemirror_mode": {
    "name": "ipython",
    "version": 3
   },
   "file_extension": ".py",
   "mimetype": "text/x-python",
   "name": "python",
   "nbconvert_exporter": "python",
   "pygments_lexer": "ipython3",
   "version": "3.9.18"
  },
  "orig_nbformat": 4,
  "vscode": {
   "interpreter": {
    "hash": "f004ea0793d26f4aefceb0e4083ea02bab8df70132e8ab52f3fce2a27fba3f53"
   }
  }
 },
 "nbformat": 4,
 "nbformat_minor": 2
}
