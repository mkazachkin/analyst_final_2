{
 "cells": [
  {
   "cell_type": "code",
   "execution_count": 186,
   "metadata": {},
   "outputs": [],
   "source": [
    "import scipy.stats as st\n",
    "import numpy as np\n",
    "import matplotlib.pyplot as plt\n"
   ]
  },
  {
   "attachments": {},
   "cell_type": "markdown",
   "metadata": {},
   "source": [
    "# Задача 5.\n",
    "Мы провели A/B-тест на увеличение average timespent per user. По итогам тестирования мы получили следующие данные:\n",
    "1. Средняя — 360. Отклонение — 40. Количество — 9802\n",
    "2. Средняя — 352. Отклонение — 58. Количество — 9789\n",
    "\n",
    "Является ли результат статистически значимым с уровнем доверия 80%. Какую версию выкатим в продакшн?\n",
    "\n",
    "## Решение:\n"
   ]
  },
  {
   "attachments": {},
   "cell_type": "markdown",
   "metadata": {},
   "source": [
    "Считаем, что выборки подчинены нормальному закону распределения (проверка не выполнялась, т. к. нет достаточных данных для ее выполнения). Оценку статистической значимости будем проводить с помощю расчета доверительного интервала. Рассчитаем объединенную дисперсию по формуле: $ s{^2}{_p} = \\frac{(n_1 - 1)\\cdot s{_1}{^2} + (n_2 - 1) \\cdot s{_2}{^2}}{n_1 + n_2 - 2} $.\n",
    "\n",
    "Объединенное стандартное отклонение в этом случае рассчитывается как квадратный корень из объединенной дисперсии."
   ]
  },
  {
   "cell_type": "code",
   "execution_count": 187,
   "metadata": {},
   "outputs": [
    {
     "name": "stdout",
     "output_type": "stream",
     "text": [
      "49.813800010632704\n"
     ]
    }
   ],
   "source": [
    "n_1 = 9802\n",
    "n_2 = 9789\n",
    "\n",
    "std_1 = 40\n",
    "std_2 = 58\n",
    "\n",
    "mean_1 = 360\n",
    "mean_2 = 352\n",
    "\n",
    "std = np.sqrt(\n",
    "    ((n_1 - 1) * std_1**2 + (n_2 - 1) * std_2**2) /\n",
    "    (n_1 + n_2 - 2)\n",
    ")\n",
    "\n",
    "print(std)\n"
   ]
  },
  {
   "attachments": {},
   "cell_type": "markdown",
   "metadata": {},
   "source": [
    "Теперь мы можем рассчитать доверительный интервал, предварительно рассчитав критическое значение t при уровне доверия 80%."
   ]
  },
  {
   "cell_type": "code",
   "execution_count": 188,
   "metadata": {},
   "outputs": [
    {
     "name": "stdout",
     "output_type": "stream",
     "text": [
      "Доверительный интервал - [7.98696521170027 : 8.013034788299729]\n"
     ]
    }
   ],
   "source": [
    "alpha = 1 - 0.8\n",
    "t = st.t.ppf(q=alpha / 2, df=(n_1 + n_2) - 2)\n",
    "lb = (mean_1 - mean_2) + t * ((std / n_1) + (std / n_2))\n",
    "rb = (mean_1 - mean_2) - t * ((std / n_1) + (std / n_2))\n",
    "print(f'Доверительный интервал - [{lb} : {rb}]')\n"
   ]
  },
  {
   "attachments": {},
   "cell_type": "markdown",
   "metadata": {},
   "source": [
    "В доверительный интервал не попадает значение 0.0, значит при сравнении среднего значения в выборках есть статистически значимая разница.\n",
    "\n",
    "## Ответ\n",
    "1. Результат тестирования является статистически значимым.\n",
    "2. Так как тест проводился на увеличение метрики, то предпочтительнее тот вариант, где среднее значение выше. В рассматриваемом случае это вариант № 1, где оно равно 360."
   ]
  }
 ],
 "metadata": {
  "kernelspec": {
   "display_name": "Python 3",
   "language": "python",
   "name": "python3"
  },
  "language_info": {
   "codemirror_mode": {
    "name": "ipython",
    "version": 3
   },
   "file_extension": ".py",
   "mimetype": "text/x-python",
   "name": "python",
   "nbconvert_exporter": "python",
   "pygments_lexer": "ipython3",
   "version": "3.9.18"
  },
  "orig_nbformat": 4
 },
 "nbformat": 4,
 "nbformat_minor": 2
}
